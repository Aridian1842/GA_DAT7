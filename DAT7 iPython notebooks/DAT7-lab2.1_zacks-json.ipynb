{
 "metadata": {
  "name": "",
  "signature": "sha256:cb3e9e8893f7b03e9c37e44cb30e5b5f2d23c78c0dca82393e115ff854e38a6e"
 },
 "nbformat": 3,
 "nbformat_minor": 0,
 "worksheets": [
  {
   "cells": [
    {
     "cell_type": "markdown",
     "metadata": {
      "slideshow": {
       "slide_type": "slide"
      }
     },
     "source": [
      "# GA Data Science 7 (DAT7) - Lab2.1"
     ]
    },
    {
     "cell_type": "markdown",
     "metadata": {
      "slideshow": {
       "slide_type": "slide"
      }
     },
     "source": [
      "Today we will be learning about the data file type called JSON, that is used alot with many companies API's\n",
      "- http://jsonviewer.stack.hu/\n",
      "- http://jsonlint.com/"
     ]
    },
    {
     "cell_type": "heading",
     "level": 1,
     "metadata": {
      "slideshow": {
       "slide_type": "slide"
      }
     },
     "source": [
      "1. JSON"
     ]
    },
    {
     "cell_type": "markdown",
     "metadata": {
      "slideshow": {
       "slide_type": "slide"
      }
     },
     "source": [
      "- What's Json? (and why do we care?)\n",
      "- http://www.reddit.com/.json"
     ]
    },
    {
     "cell_type": "code",
     "collapsed": false,
     "input": [
      "# load the homework data into a pandas dataset\n",
      "import pandas as pd\n",
      "data = pd.read_csv(\"data/titanic.csv\")"
     ],
     "language": "python",
     "metadata": {},
     "outputs": [],
     "prompt_number": 1
    },
    {
     "cell_type": "code",
     "collapsed": false,
     "input": [
      "# assign the first 5 rows to a variable called first\n",
      "first = data.head(5)"
     ],
     "language": "python",
     "metadata": {},
     "outputs": [],
     "prompt_number": 2
    },
    {
     "cell_type": "code",
     "collapsed": false,
     "input": [],
     "language": "python",
     "metadata": {},
     "outputs": [],
     "prompt_number": 5
    },
    {
     "cell_type": "code",
     "collapsed": false,
     "input": [
      "import json\n",
      "# use the DataFrame method to_json to transform <first> into a json object\n",
      "first.to_json()\n",
      "# j = json.loads(j)\n",
      "# print type(j)\n",
      "# j = json.dumps(j)\n"
     ],
     "language": "python",
     "metadata": {},
     "outputs": [],
     "prompt_number": 6
    },
    {
     "cell_type": "code",
     "collapsed": false,
     "input": [
      "# z = json.dumps({\"c\": 0, \"b\": 0, \"a\": 0}, sort_keys=True)\n",
      "\n"
     ],
     "language": "python",
     "metadata": {},
     "outputs": [],
     "prompt_number": 36
    },
    {
     "cell_type": "code",
     "collapsed": false,
     "input": [
      "# explore the different options in the to_json method\n",
      "first.to_json(orient = 'records')"
     ],
     "language": "python",
     "metadata": {},
     "outputs": [
      {
       "metadata": {},
       "output_type": "pyout",
       "prompt_number": 37,
       "text": [
        "'[{\"survived\":0,\"pclass\":3,\"name\":\"Braund, Mr. Owen Harris\",\"sex\":\"male\",\"age\":22.0,\"sibsp\":1,\"parch\":0,\"ticket\":\"A\\\\/5 21171\",\"fare\":7.25,\"cabin\":null,\"embarked\":\"S\"},{\"survived\":1,\"pclass\":1,\"name\":\"Cumings, Mrs. John Bradley (Florence Briggs Thayer)\",\"sex\":\"female\",\"age\":38.0,\"sibsp\":1,\"parch\":0,\"ticket\":\"PC 17599\",\"fare\":71.2833,\"cabin\":\"C85\",\"embarked\":\"C\"},{\"survived\":1,\"pclass\":3,\"name\":\"Heikkinen, Miss. Laina\",\"sex\":\"female\",\"age\":26.0,\"sibsp\":0,\"parch\":0,\"ticket\":\"STON\\\\/O2. 3101282\",\"fare\":7.925,\"cabin\":null,\"embarked\":\"S\"},{\"survived\":1,\"pclass\":1,\"name\":\"Futrelle, Mrs. Jacques Heath (Lily May Peel)\",\"sex\":\"female\",\"age\":35.0,\"sibsp\":1,\"parch\":0,\"ticket\":\"113803\",\"fare\":53.1,\"cabin\":\"C123\",\"embarked\":\"S\"},{\"survived\":0,\"pclass\":3,\"name\":\"Allen, Mr. William Henry\",\"sex\":\"male\",\"age\":35.0,\"sibsp\":0,\"parch\":0,\"ticket\":\"373450\",\"fare\":8.05,\"cabin\":null,\"embarked\":\"S\"}]'"
       ]
      }
     ],
     "prompt_number": 37
    },
    {
     "cell_type": "code",
     "collapsed": false,
     "input": [
      "# discussion"
     ],
     "language": "python",
     "metadata": {},
     "outputs": [],
     "prompt_number": 8
    },
    {
     "cell_type": "markdown",
     "metadata": {},
     "source": [
      "# 2. APIs"
     ]
    },
    {
     "cell_type": "markdown",
     "metadata": {},
     "source": [
      "- What's an API? (and why do we care?)"
     ]
    },
    {
     "cell_type": "markdown",
     "metadata": {},
     "source": [
      "## 2 A simple web request"
     ]
    },
    {
     "cell_type": "code",
     "collapsed": false,
     "input": [
      "import urllib\n",
      "url = \"http://www.reddit.com/.json\"\n",
      "data = urllib.urlopen(url).read()\n",
      "print type(data)"
     ],
     "language": "python",
     "metadata": {},
     "outputs": [
      {
       "output_type": "stream",
       "stream": "stdout",
       "text": [
        "<type 'str'>\n"
       ]
      }
     ],
     "prompt_number": 122
    },
    {
     "cell_type": "code",
     "collapsed": false,
     "input": [
      "jdata = json.loads(data)\n",
      "print jdata.keys()\n",
      "print type(jdata['data']['children'])\n",
      "\n",
      "# print type(jdata)\n",
      "# print jdata.keys()\n",
      "# print jdata['kind']\n",
      "# print jdata['data']\n",
      "# df = pd.DataFrame(jdata['data']) NO NO NO\n"
     ],
     "language": "python",
     "metadata": {},
     "outputs": [
      {
       "output_type": "stream",
       "stream": "stdout",
       "text": [
        "[u'kind', u'data']\n",
        "<type 'list'>\n"
       ]
      }
     ],
     "prompt_number": 134
    },
    {
     "cell_type": "code",
     "collapsed": false,
     "input": [
      "import urllib\n",
      "\n",
      "def get_historical_prices(symbol, start_date, end_date):\n",
      "    \"\"\"\n",
      "    Get historical prices for the given ticker symbol.\n",
      "    Date format is 'YYYYMMDD'\n",
      "    \n",
      "    Returns a json list.\n",
      "    \"\"\"\n",
      "    url = 'http://ichart.yahoo.com/table.csv?s=%s&' % symbol + \\\n",
      "          'd=%s&' % str(int(end_date[4:6]) - 1) + \\\n",
      "          'e=%s&' % str(int(end_date[6:8])) + \\\n",
      "          'f=%s&' % str(int(end_date[0:4])) + \\\n",
      "          'g=d&' + \\\n",
      "          'a=%s&' % str(int(start_date[4:6]) - 1) + \\\n",
      "          'b=%s&' % str(int(start_date[6:8])) + \\\n",
      "          'c=%s&' % str(int(start_date[0:4])) + \\\n",
      "          'ignore=.csv'\n",
      "    days = urllib.urlopen(url).readlines()\n",
      "    data = [day[:-2].split(',') for day in days]\n",
      "    return data"
     ],
     "language": "python",
     "metadata": {},
     "outputs": [],
     "prompt_number": 43
    },
    {
     "cell_type": "code",
     "collapsed": false,
     "input": [
      "data = get_historical_prices('GOOG', '20140101', '20140106')\n",
      "print data"
     ],
     "language": "python",
     "metadata": {},
     "outputs": [
      {
       "output_type": "stream",
       "stream": "stdout",
       "text": [
        "[['<!doctype html public \"-//W3C//DTD HTML 4.01//EN\" \"http://www.w3.org/TR/html4/strict.dtd\"'], ['<html><head><title>Yahoo! - 404 Not Found</title><style'], ['/* nn4 hide */'], ['/*/*'], ['body {font:small/1.2em arial', 'helvetica', 'clean', 'sans-serif;font:x-small;text-align:center;}table {font-size:inherit;font:x-small;'], ['html>body {font:83%/1.2em arial', 'helvetica', 'clean', 'sans-serif;}input {font-size:100%;vertical-align:middle;}p', ' form {margin:0;padding:0;'], ['p {padding-bottom:6px;margin-bottom:10px;}#doc {width:48.5em;margin:0 auto;border:1px solid #fff;text-align:center;}#ygma {text-align:right;margin-bottom:53px'], ['#ygma img {float:left;}#ygma div {border-bottom:1px solid #ccc;padding-bottom:8px;margin-left:152px;}#bd {clear:both;text-align:left;width:75%;margin:0 auto 20px;'], ['h1 {font-size:135%;text-align:center;margin:0 0 15px;}legend {display:none;}fieldset {border:0 solid #fff;padding:.8em 0 .8em 4.5em;'], ['form {position:relative;background:#eee;margin-bottom:15px;border:1px solid #ccc;border-width:1px 0;'], ['#s1p {width:15em;margin-right:.1em;'], ['form span {position:absolute;left:70%;top:.8em;}form a {font:78%/1.2em arial;display:block;padding-left:.8em;white-space:nowrap;background: url(http://l.yimg.com/a/i/s/bullet.gif) no-repeat left center;}'], ['form .sep {display:none;}.more {text-align:center;}#ft {padding-top:10px;border-top:1px solid #999;}#ft p {text-align:center;font:78% arial;'], ['/* end nn4 hide *'], ['</style></head'], ['<body><div id=\"doc\"'], ['<div id=\"ygma\"><a href=\"http://us.rd.yahoo.com/404/*http://www.yahoo.com\"><im'], ['src=http://l.yimg.com/a/i/yahoo.gi'], ['width=147 height=31 border=0 alt=\"Yahoo!\"></a><div><'], ['href=\"http://us.rd.yahoo.com/404/*http://www.yahoo.com\">Yahoo!</a'], [' - <a href=\"http://us.rd.yahoo.com/404/*http://help.yahoo.com\">Help</a></div></div'], ['<div id=\"bd\"><h1>Sorry', ' the page you requested was not found.</h1'], ['<p>Please check the URL for proper spelling and capitalization. I'], [\"you're having trouble locating a destination on Yahoo!\", ' try visiting th'], ['<strong><'], ['href=\"http://us.rd.yahoo.com/404/*http://www.yahoo.com\">Yahoo! hom'], ['page</a></strong> or look through a list of <strong><'], ['href=\"http://us.rd.yahoo.com/404/*http://docs.yahoo.com/docs/family/more/\">Yahoo!\\''], ['online services</a></strong>. Also', \" you may find what you're looking fo\"], ['if you try searching below.</p'], ['<form name=\"s1\" action=\"http://us.rd.yahoo.com/404/*-http://search.yahoo.com/search\"><fieldset'], ['<legend><label for=\"s1p\">Search the Web</label></legend'], ['<input type=\"text\" size=30 name=\"p\" id=\"s1p\" title=\"enter search terms here\"'], ['<input type=\"submit\" value=\"Search\"'], ['<span><a href=\"http://us.rd.yahoo.com/404/*http://search.yahoo.com/search/options?p=\">advanced search</a> <span class=sep>|</span> <a href=\"http://us.rd.yahoo.com/404/*http://buzz.yahoo.com\">most popular</a></span'], ['</fieldset></form'], ['<p class=\"more\">Please try <strong><'], ['href=\"http://us.rd.yahoo.com/404/*http://help.yahoo.com\">Yahoo'], ['Help Central</a></strong> if you need more assistance.</p'], ['</div><div id=\"ft\"><p>Copyright &copy; 2014 Yahoo! Inc'], ['All rights reserved. <'], ['href=\"http://us.rd.yahoo.com/404/*http://privacy.yahoo.com\">Privac'], ['Policy</a> - <'], ['href=\"http://us.rd.yahoo.com/404/*http://docs.yahoo.com/info/terms/\">Term'], ['of Service</a></p></div'], ['</div></body></html']]\n"
       ]
      }
     ],
     "prompt_number": 107
    },
    {
     "cell_type": "code",
     "collapsed": false,
     "input": [
      "# obtain the prices of Yahoo for the past month and insert them in a Pandas Dataframe\n",
      "\n",
      "prices = get_historical_prices('YHOO', '20140217', '20140317')\n",
      "\n",
      "df = pd.DataFrame(prices[1:], columns= prices[0], dtype=int).set_index('Date')\n",
      "df.head()"
     ],
     "language": "python",
     "metadata": {},
     "outputs": [
      {
       "output_type": "stream",
       "stream": "stdout",
       "text": [
        "[['Date', 'Open', 'High', 'Low', 'Close', 'Volume', 'Adj Clos'], ['2014-03-17', '39.00', '39.36', '38.61', '39.11', '29698300', '39.1'], ['2014-03-14', '36.69', '38.19', '36.45', '37.60', '30862300', '37.6'], ['2014-03-13', '38.05', '38.42', '36.81', '37.23', '21179700', '37.2'], ['2014-03-12', '37.21', '37.61', '36.48', '37.50', '14794700', '37.5'], ['2014-03-11', '38.25', '38.30', '37.43', '37.56', '12592300', '37.5'], ['2014-03-10', '38.63', '38.78', '37.91', '38.05', '11819200', '38.0'], ['2014-03-07', '39.71', '39.91', '38.45', '38.70', '14455500', '38.7'], ['2014-03-06', '39.60', '39.98', '39.50', '39.66', '10626700', '39.6'], ['2014-03-05', '39.83', '40.15', '39.19', '39.50', '12536800', '39.5'], ['2014-03-04', '38.76', '39.79', '38.68', '39.63', '16139400', '39.6'], ['2014-03-03', '37.65', '38.66', '37.43', '38.25', '14714700', '38.2'], ['2014-02-28', '38.55', '39.38', '38.22', '38.67', '16957100', '38.6'], ['2014-02-27', '37.80', '38.48', '37.74', '38.47', '15489400', '38.4'], ['2014-02-26', '37.35', '38.10', '37.34', '37.62', '15778900', '37.6'], ['2014-02-25', '37.48', '37.58', '37.02', '37.26', '9756900', '37.2'], ['2014-02-24', '37.23', '37.71', '36.82', '37.42', '15738900', '37.4'], ['2014-02-21', '37.90', '37.96', '37.22', '37.29', '12351900', '37.2'], ['2014-02-20', '37.83', '38.04', '37.30', '37.79', '11155900', '37.7'], ['2014-02-19', '38.06', '38.33', '37.68', '37.81', '15851900', '37.8'], ['2014-02-18', '38.31', '38.59', '38.09', '38.31', '12096400', '38.3']]\n"
       ]
      },
      {
       "html": [
        "<div style=\"max-height:1000px;max-width:1500px;overflow:auto;\">\n",
        "<table border=\"1\" class=\"dataframe\">\n",
        "  <thead>\n",
        "    <tr style=\"text-align: right;\">\n",
        "      <th></th>\n",
        "      <th>Open</th>\n",
        "      <th>High</th>\n",
        "      <th>Low</th>\n",
        "      <th>Close</th>\n",
        "      <th>Volume</th>\n",
        "      <th>Adj Clos</th>\n",
        "    </tr>\n",
        "    <tr>\n",
        "      <th>Date</th>\n",
        "      <th></th>\n",
        "      <th></th>\n",
        "      <th></th>\n",
        "      <th></th>\n",
        "      <th></th>\n",
        "      <th></th>\n",
        "    </tr>\n",
        "  </thead>\n",
        "  <tbody>\n",
        "    <tr>\n",
        "      <th>2014-03-17</th>\n",
        "      <td> 39.00</td>\n",
        "      <td> 39.36</td>\n",
        "      <td> 38.61</td>\n",
        "      <td> 39.11</td>\n",
        "      <td> 29698300</td>\n",
        "      <td> 39.1</td>\n",
        "    </tr>\n",
        "    <tr>\n",
        "      <th>2014-03-14</th>\n",
        "      <td> 36.69</td>\n",
        "      <td> 38.19</td>\n",
        "      <td> 36.45</td>\n",
        "      <td> 37.60</td>\n",
        "      <td> 30862300</td>\n",
        "      <td> 37.6</td>\n",
        "    </tr>\n",
        "    <tr>\n",
        "      <th>2014-03-13</th>\n",
        "      <td> 38.05</td>\n",
        "      <td> 38.42</td>\n",
        "      <td> 36.81</td>\n",
        "      <td> 37.23</td>\n",
        "      <td> 21179700</td>\n",
        "      <td> 37.2</td>\n",
        "    </tr>\n",
        "    <tr>\n",
        "      <th>2014-03-12</th>\n",
        "      <td> 37.21</td>\n",
        "      <td> 37.61</td>\n",
        "      <td> 36.48</td>\n",
        "      <td> 37.50</td>\n",
        "      <td> 14794700</td>\n",
        "      <td> 37.5</td>\n",
        "    </tr>\n",
        "    <tr>\n",
        "      <th>2014-03-11</th>\n",
        "      <td> 38.25</td>\n",
        "      <td> 38.30</td>\n",
        "      <td> 37.43</td>\n",
        "      <td> 37.56</td>\n",
        "      <td> 12592300</td>\n",
        "      <td> 37.5</td>\n",
        "    </tr>\n",
        "  </tbody>\n",
        "</table>\n",
        "<p>5 rows \u00d7 6 columns</p>\n",
        "</div>"
       ],
       "metadata": {},
       "output_type": "pyout",
       "prompt_number": 108,
       "text": [
        "             Open   High    Low  Close    Volume Adj Clos\n",
        "Date                                                     \n",
        "2014-03-17  39.00  39.36  38.61  39.11  29698300     39.1\n",
        "2014-03-14  36.69  38.19  36.45  37.60  30862300     37.6\n",
        "2014-03-13  38.05  38.42  36.81  37.23  21179700     37.2\n",
        "2014-03-12  37.21  37.61  36.48  37.50  14794700     37.5\n",
        "2014-03-11  38.25  38.30  37.43  37.56  12592300     37.5\n",
        "\n",
        "[5 rows x 6 columns]"
       ]
      }
     ],
     "prompt_number": 108
    },
    {
     "cell_type": "code",
     "collapsed": false,
     "input": [
      "df.info()"
     ],
     "language": "python",
     "metadata": {},
     "outputs": [
      {
       "output_type": "stream",
       "stream": "stdout",
       "text": [
        "<class 'pandas.core.frame.DataFrame'>\n",
        "Index: 20 entries, 2014-03-17 to 2014-02-18\n",
        "Data columns (total 6 columns):\n",
        "Open        20 non-null object\n",
        "High        20 non-null object\n",
        "Low         20 non-null object\n",
        "Close       20 non-null object\n",
        "Volume      20 non-null int64\n",
        "Adj Clos    20 non-null object\n",
        "dtypes: int64(1), object(5)"
       ]
      }
     ],
     "prompt_number": 12
    },
    {
     "cell_type": "code",
     "collapsed": false,
     "input": [
      "# use the DataFrame method plot() to plot the Open, High, Low, Close curves\n",
      "\n",
      "df.Open[0]"
     ],
     "language": "python",
     "metadata": {},
     "outputs": [
      {
       "metadata": {},
       "output_type": "pyout",
       "prompt_number": 13,
       "text": [
        "'39.00'"
       ]
      }
     ],
     "prompt_number": 13
    },
    {
     "cell_type": "heading",
     "level": 1,
     "metadata": {
      "slideshow": {
       "slide_type": "slide"
      }
     },
     "source": [
      "Twitter API"
     ]
    },
    {
     "cell_type": "markdown",
     "metadata": {
      "slideshow": {
       "slide_type": "notes"
      }
     },
     "source": [
      "Twitter has no less than 10 python libraries. We'll be using Python Twitter Tools because it's what's used in Mining the Social Web."
     ]
    },
    {
     "cell_type": "markdown",
     "metadata": {
      "slideshow": {
       "slide_type": "skip"
      }
     },
     "source": [
      "#### Some services (like Twitter) have released Python libraries of their own to make using their API even easier.\n"
     ]
    },
    {
     "cell_type": "code",
     "collapsed": false,
     "input": [
      "!pip install twitter"
     ],
     "language": "python",
     "metadata": {},
     "outputs": [
      {
       "output_type": "stream",
       "stream": "stdout",
       "text": [
        "Downloading/unpacking twitter\r\n"
       ]
      },
      {
       "output_type": "stream",
       "stream": "stdout",
       "text": [
        "  Downloading twitter-1.14.3.tar.gz\r\n"
       ]
      },
      {
       "output_type": "stream",
       "stream": "stdout",
       "text": [
        "  Running setup.py egg_info for package twitter\r\n"
       ]
      },
      {
       "output_type": "stream",
       "stream": "stdout",
       "text": [
        "    \r\n"
       ]
      },
      {
       "output_type": "stream",
       "stream": "stdout",
       "text": [
        "Installing collected packages: twitter\r\n",
        "  Running setup.py install for twitter\r\n"
       ]
      },
      {
       "output_type": "stream",
       "stream": "stdout",
       "text": [
        "    \r\n"
       ]
      },
      {
       "output_type": "stream",
       "stream": "stdout",
       "text": [
        "    Installing twitter-log script to /Users/zack/anaconda/bin\r\n",
        "    Installing twitter script to /Users/zack/anaconda/bin\r\n",
        "    Installing twitterbot script to /Users/zack/anaconda/bin\r\n",
        "    Installing twitter-follow script to /Users/zack/anaconda/bin\r\n",
        "    Installing twitter-stream-example script to /Users/zack/anaconda/bin\r\n",
        "    Installing twitter-archiver script to /Users/zack/anaconda/bin\r\n",
        "Successfully installed twitter\r\n",
        "Cleaning up...\r\n"
       ]
      }
     ],
     "prompt_number": 14
    },
    {
     "cell_type": "markdown",
     "metadata": {},
     "source": [
      "Here are the instructions on how to get your own keys\n",
      "https://dev.twitter.com/docs/auth/tokens-devtwittercom"
     ]
    },
    {
     "cell_type": "code",
     "collapsed": false,
     "input": [
      "# CONSUMER_KEY = 'kU89M3iTVbkNhnA7b1WD9A'\n",
      "# CONSUMER_SECRET ='E2erSrX5DeUByOzm2Rn4uI1SsXI2v7UTvWSDe4sDs'\n",
      "# OAUTH_TOKEN = '54150531-lrpWlsun1FSq4zU81fFK03UFwLZPAfOYSr3zzY68T'\n",
      "# OAUTH_TOKEN_SECRET = '8JzJx1kPv3l6rq4IBFgPZYyUloMzcPKr2r7SrBstCmiz6'"
     ],
     "language": "python",
     "metadata": {},
     "outputs": []
    },
    {
     "cell_type": "code",
     "collapsed": false,
     "input": [
      "CONSUMER_KEY = 'hbwxP2s76aWJ1tC1hxXXv9n3B'\n",
      "CONSUMER_SECRET ='K4iCWnrnZ5Z4VbiSAuEfbyrs5DYJYYGptzmvlMqHnf4qaQiTGE'\n",
      "OAUTH_TOKEN = '284204571-0kKghHzkO1aoq70dP90v2BdxCQVO1JTJvqtXspvF'\n",
      "OAUTH_TOKEN_SECRET = 'XwTD3JJkONF9jnZITKRIAlgZ4wJPeBzyjqtuzPsjTNDh7'"
     ],
     "language": "python",
     "metadata": {},
     "outputs": [],
     "prompt_number": 79
    },
    {
     "cell_type": "code",
     "collapsed": false,
     "input": [
      "import twitter\n",
      "\n",
      "auth = twitter.oauth.OAuth(OAUTH_TOKEN, \n",
      "                           OAUTH_TOKEN_SECRET,\n",
      "                           CONSUMER_KEY,\n",
      "                           CONSUMER_SECRET)\n",
      "\n",
      "twitter_api = twitter.Twitter(auth=auth)\n",
      "\n",
      "print twitter_api"
     ],
     "language": "python",
     "metadata": {
      "slideshow": {
       "slide_type": "slide"
      }
     },
     "outputs": [
      {
       "output_type": "stream",
       "stream": "stdout",
       "text": [
        "<twitter.api.Twitter object at 0x1072d5d90>\n"
       ]
      }
     ],
     "prompt_number": 80
    },
    {
     "cell_type": "markdown",
     "metadata": {
      "slideshow": {
       "slide_type": "skip"
      }
     },
     "source": [
      "#### Using a library like this, we don't even need to specify the URL (that's handled internally)."
     ]
    },
    {
     "cell_type": "markdown",
     "metadata": {
      "slideshow": {
       "slide_type": "slide"
      }
     },
     "source": [
      "Using a library like this, it's easy to do something like search for tweets mentioning `#bigdata`  \n",
      "\n",
      "The results are transformed into a Python object (which in this case is a thin wrapper around a `dict`)"
     ]
    },
    {
     "cell_type": "code",
     "collapsed": false,
     "input": [
      "bigdata = twitter_api.search.tweets(q='#bigdata', count=5)\n",
      "type(bigdata)\n",
      "print bigdata"
     ],
     "language": "python",
     "metadata": {
      "slideshow": {
       "slide_type": "fragment"
      }
     },
     "outputs": [
      {
       "output_type": "stream",
       "stream": "stdout",
       "text": [
        "{u'search_metadata': {u'count': 5, u'completed_in': 0.009, u'max_id_str': u'475348383121817600', u'since_id_str': u'0', u'next_results': u'?max_id=475348089495379967&q=%23bigdata&count=5&include_entities=1', u'refresh_url': u'?since_id=475348383121817600&q=%23bigdata&include_entities=1', u'since_id': 0, u'query': u'%23bigdata', u'max_id': 475348383121817600}, u'statuses': [{u'contributors': None, u'truncated': False, u'text': u'RT @KirkDBorne: 6 Ways to Make Your Data More Human - #BigData is Great, but #Marketing Still Needs the Human Touch: http://t.co/2Xfa8dclbK\\u2026', u'in_reply_to_status_id': None, u'id': 475348383121817600, u'favorite_count': 0, u'source': u'<a href=\"http://www.flipboard.com\" rel=\"nofollow\">Flipboard</a>', u'retweeted': False, u'coordinates': None, u'entities': {u'symbols': [], u'user_mentions': [{u'id': 534563976, u'indices': [3, 14], u'id_str': u'534563976', u'screen_name': u'KirkDBorne', u'name': u'Kirk Borne'}, {u'id': 22091419, u'indices': [139, 140], u'id_str': u'22091419', u'screen_name': u'pixelvisions', u'name': u'Bryan Melmed'}], u'hashtags': [{u'indices': [54, 62], u'text': u'BigData'}, {u'indices': [77, 87], u'text': u'Marketing'}], u'urls': [{u'url': u'http://t.co/2Xfa8dclbK', u'indices': [117, 139], u'expanded_url': u'http://adage.com/article/digitalnext/ways-make-data-human/293458/', u'display_url': u'adage.com/article/digita\\u2026'}]}, u'in_reply_to_screen_name': None, u'in_reply_to_user_id': None, u'retweet_count': 3, u'id_str': u'475348383121817600', u'favorited': False, u'retweeted_status': {u'contributors': None, u'truncated': False, u'text': u'6 Ways to Make Your Data More Human - #BigData is Great, but #Marketing Still Needs the Human Touch: http://t.co/2Xfa8dclbK by @pixelvisions', u'in_reply_to_status_id': None, u'id': 475305002978656256, u'favorite_count': 0, u'source': u'<a href=\"http://twitter.com\" rel=\"nofollow\">Twitter Web Client</a>', u'retweeted': False, u'coordinates': None, u'entities': {u'symbols': [], u'user_mentions': [{u'id': 22091419, u'indices': [127, 140], u'id_str': u'22091419', u'screen_name': u'pixelvisions', u'name': u'Bryan Melmed'}], u'hashtags': [{u'indices': [38, 46], u'text': u'BigData'}, {u'indices': [61, 71], u'text': u'Marketing'}], u'urls': [{u'url': u'http://t.co/2Xfa8dclbK', u'indices': [101, 123], u'expanded_url': u'http://adage.com/article/digitalnext/ways-make-data-human/293458/', u'display_url': u'adage.com/article/digita\\u2026'}]}, u'in_reply_to_screen_name': None, u'in_reply_to_user_id': None, u'retweet_count': 3, u'id_str': u'475305002978656256', u'favorited': False, u'user': {u'follow_request_sent': False, u'profile_use_background_image': True, u'default_profile_image': False, u'id': 534563976, u'profile_background_image_url_https': u'https://pbs.twimg.com/profile_background_images/378800000110442114/094a0b4d38b70e3871a1bda7d7fe2341.jpeg', u'verified': False, u'profile_text_color': u'333333', u'profile_image_url_https': u'https://pbs.twimg.com/profile_images/452157174769524737/cknjYfAC_normal.jpeg', u'profile_sidebar_fill_color': u'DDEEF6', u'entities': {u'url': {u'urls': [{u'url': u'http://t.co/tWlmevaWIF', u'indices': [0, 22], u'expanded_url': u'http://www.linkedin.com/in/kirkdborne', u'display_url': u'linkedin.com/in/kirkdborne'}]}, u'description': {u'urls': [{u'url': u'http://t.co/qYn8bft1fP', u'indices': [130, 152], u'expanded_url': u'http://kirkborne.net/', u'display_url': u'kirkborne.net'}]}}, u'followers_count': 11676, u'profile_sidebar_border_color': u'FFFFFF', u'id_str': u'534563976', u'profile_background_color': u'C0DEED', u'listed_count': 599, u'is_translation_enabled': False, u'utc_offset': -14400, u'statuses_count': 22981, u'description': u'PhD DataScientist Astrophysicist, Top #BigData Influencer. Passions: #DataScience, #DataMining, Astroinformatics, #CitizenScience http://t.co/qYn8bft1fP', u'friends_count': 11178, u'location': u'George Mason University', u'profile_link_color': u'0084B4', u'profile_image_url': u'http://pbs.twimg.com/profile_images/452157174769524737/cknjYfAC_normal.jpeg', u'following': False, u'geo_enabled': True, u'profile_banner_url': u'https://pbs.twimg.com/profile_banners/534563976/1355112691', u'profile_background_image_url': u'http://pbs.twimg.com/profile_background_images/378800000110442114/094a0b4d38b70e3871a1bda7d7fe2341.jpeg', u'screen_name': u'KirkDBorne', u'lang': u'en', u'profile_background_tile': True, u'favourites_count': 28980, u'name': u'Kirk Borne', u'notifications': False, u'url': u'http://t.co/tWlmevaWIF', u'created_at': u'Fri Mar 23 16:35:17 +0000 2012', u'contributors_enabled': False, u'time_zone': u'Eastern Time (US & Canada)', u'protected': False, u'default_profile': False, u'is_translator': False}, u'geo': None, u'in_reply_to_user_id_str': None, u'possibly_sensitive': False, u'lang': u'en', u'created_at': u'Sat Jun 07 15:55:18 +0000 2014', u'in_reply_to_status_id_str': None, u'place': None, u'metadata': {u'iso_language_code': u'en', u'result_type': u'recent'}}, u'user': {u'follow_request_sent': False, u'profile_use_background_image': True, u'default_profile_image': False, u'id': 128127950, u'profile_background_image_url_https': u'https://abs.twimg.com/images/themes/theme1/bg.png', u'verified': False, u'profile_text_color': u'333333', u'profile_image_url_https': u'https://pbs.twimg.com/profile_images/2416455911/t9wln0gf7x2whe8lrvfv_normal.jpeg', u'profile_sidebar_fill_color': u'DDEEF6', u'entities': {u'url': {u'urls': [{u'url': u'http://t.co/MWnXikU6qo', u'indices': [0, 22], u'expanded_url': u'http://computerscinese.ru', u'display_url': u'computerscinese.ru'}]}, u'description': {u'urls': []}}, u'followers_count': 18, u'profile_sidebar_border_color': u'C0DEED', u'id_str': u'128127950', u'profile_background_color': u'C0DEED', u'listed_count': 0, u'is_translation_enabled': False, u'utc_offset': 14400, u'statuses_count': 613, u'description': u'', u'friends_count': 45, u'location': u'Russian', u'profile_link_color': u'0084B4', u'profile_image_url': u'http://pbs.twimg.com/profile_images/2416455911/t9wln0gf7x2whe8lrvfv_normal.jpeg', u'following': False, u'geo_enabled': False, u'profile_background_image_url': u'http://abs.twimg.com/images/themes/theme1/bg.png', u'screen_name': u'kuznetsovin', u'lang': u'ru', u'profile_background_tile': False, u'favourites_count': 29, u'name': u'Igor Kuznetsov', u'notifications': False, u'url': u'http://t.co/MWnXikU6qo', u'created_at': u'Wed Mar 31 05:10:41 +0000 2010', u'contributors_enabled': False, u'time_zone': u'Moscow', u'protected': False, u'default_profile': True, u'is_translator': False}, u'geo': None, u'in_reply_to_user_id_str': None, u'possibly_sensitive': False, u'lang': u'en', u'created_at': u'Sat Jun 07 18:47:40 +0000 2014', u'in_reply_to_status_id_str': None, u'place': None, u'metadata': {u'iso_language_code': u'en', u'result_type': u'recent'}}, {u'contributors': None, u'truncated': False, u'text': u'Data Brokers:  A Call For Transparency and Accountability:  A Report of the FTC\\nhttp://t.co/0gKKhHeF8B #BigData', u'in_reply_to_status_id': None, u'id': 475348376717119488, u'favorite_count': 0, u'source': u'<a href=\"http://twitter.com/download/iphone\" rel=\"nofollow\">Twitter for iPhone</a>', u'retweeted': False, u'coordinates': None, u'entities': {u'symbols': [], u'user_mentions': [], u'hashtags': [{u'indices': [103, 111], u'text': u'BigData'}], u'urls': [{u'url': u'http://t.co/0gKKhHeF8B', u'indices': [80, 102], u'expanded_url': u'http://www.ftc.gov/system/files/documents/reports/data-brokers-call-transparency-accountability-report-federal-trade-commission-may-2014/140527databrokerreport.pdf', u'display_url': u'ftc.gov/system/files/d\\u2026'}]}, u'in_reply_to_screen_name': None, u'in_reply_to_user_id': None, u'retweet_count': 0, u'id_str': u'475348376717119488', u'favorited': False, u'user': {u'follow_request_sent': False, u'profile_use_background_image': True, u'default_profile_image': False, u'id': 87779569, u'profile_background_image_url_https': u'https://abs.twimg.com/images/themes/theme3/bg.gif', u'verified': False, u'profile_text_color': u'634047', u'profile_image_url_https': u'https://pbs.twimg.com/profile_images/463466580052295681/GLoU2EA4_normal.jpeg', u'profile_sidebar_fill_color': u'E3E2DE', u'entities': {u'description': {u'urls': []}}, u'followers_count': 5854, u'profile_sidebar_border_color': u'D3D2CF', u'id_str': u'87779569', u'profile_background_color': u'EDECE9', u'listed_count': 399, u'is_translation_enabled': False, u'utc_offset': -25200, u'statuses_count': 84075, u'description': u'Entrepreneur, DoGooder, Advocate: Health, Medicine, Communications, Journalism, New & Social Media, Tech, Marketing, Seniors, Women, disABILITIES, Environment', u'friends_count': 3241, u'location': u'USA', u'profile_link_color': u'088253', u'profile_image_url': u'http://pbs.twimg.com/profile_images/463466580052295681/GLoU2EA4_normal.jpeg', u'following': False, u'geo_enabled': False, u'profile_background_image_url': u'http://abs.twimg.com/images/themes/theme3/bg.gif', u'screen_name': u'ElinSilveous', u'lang': u'en', u'profile_background_tile': False, u'favourites_count': 5756, u'name': u'Elin Silveous', u'notifications': False, u'url': None, u'created_at': u'Thu Nov 05 20:50:18 +0000 2009', u'contributors_enabled': False, u'time_zone': u'Pacific Time (US & Canada)', u'protected': False, u'default_profile': False, u'is_translator': False}, u'geo': None, u'in_reply_to_user_id_str': None, u'possibly_sensitive': False, u'lang': u'en', u'created_at': u'Sat Jun 07 18:47:39 +0000 2014', u'in_reply_to_status_id_str': None, u'place': None, u'metadata': {u'iso_language_code': u'en', u'result_type': u'recent'}}, {u'contributors': None, u'truncated': False, u'text': u'RT @BigDataClub: Hi @LaurentYaCloud, thanks for joining #BigData #Club, please join #BigDataClub on #LinkedIn http://t.co/HXXHgcSaiF', u'in_reply_to_status_id': None, u'id': 475348250925760513, u'favorite_count': 0, u'source': u'<a href=\"https://roundteam.co\" rel=\"nofollow\">RoundTeam</a>', u'retweeted': False, u'coordinates': None, u'entities': {u'symbols': [], u'user_mentions': [{u'id': 507415544, u'indices': [3, 15], u'id_str': u'507415544', u'screen_name': u'BigDataClub', u'name': u'BigDataClub'}, {u'id': 34311883, u'indices': [20, 35], u'id_str': u'34311883', u'screen_name': u'LaurentYaCloud', u'name': u'laurent lacroix'}], u'hashtags': [{u'indices': [56, 64], u'text': u'BigData'}, {u'indices': [65, 70], u'text': u'Club'}, {u'indices': [84, 96], u'text': u'BigDataClub'}, {u'indices': [100, 109], u'text': u'LinkedIn'}], u'urls': [{u'url': u'http://t.co/HXXHgcSaiF', u'indices': [110, 132], u'expanded_url': u'http://linkd.in/WhXioa', u'display_url': u'linkd.in/WhXioa'}]}, u'in_reply_to_screen_name': None, u'in_reply_to_user_id': None, u'retweet_count': 1, u'id_str': u'475348250925760513', u'favorited': False, u'retweeted_status': {u'contributors': None, u'truncated': False, u'text': u'Hi @LaurentYaCloud, thanks for joining #BigData #Club, please join #BigDataClub on #LinkedIn http://t.co/HXXHgcSaiF', u'in_reply_to_status_id': None, u'id': 475346540236517376, u'favorite_count': 1, u'source': u'<a href=\"http://tcelab.com\" rel=\"nofollow\">bigdataclub</a>', u'retweeted': False, u'coordinates': None, u'entities': {u'symbols': [], u'user_mentions': [{u'id': 34311883, u'indices': [3, 18], u'id_str': u'34311883', u'screen_name': u'LaurentYaCloud', u'name': u'laurent lacroix'}], u'hashtags': [{u'indices': [39, 47], u'text': u'BigData'}, {u'indices': [48, 53], u'text': u'Club'}, {u'indices': [67, 79], u'text': u'BigDataClub'}, {u'indices': [83, 92], u'text': u'LinkedIn'}], u'urls': [{u'url': u'http://t.co/HXXHgcSaiF', u'indices': [93, 115], u'expanded_url': u'http://linkd.in/WhXioa', u'display_url': u'linkd.in/WhXioa'}]}, u'in_reply_to_screen_name': None, u'in_reply_to_user_id': None, u'retweet_count': 1, u'id_str': u'475346540236517376', u'favorited': False, u'user': {u'follow_request_sent': False, u'profile_use_background_image': True, u'default_profile_image': False, u'id': 507415544, u'profile_background_image_url_https': u'https://abs.twimg.com/images/themes/theme1/bg.png', u'verified': False, u'profile_text_color': u'333333', u'profile_image_url_https': u'https://pbs.twimg.com/profile_images/378800000309289268/f55beff161cbd781ff07d247e671741c_normal.png', u'profile_sidebar_fill_color': u'DDEEF6', u'entities': {u'url': {u'urls': [{u'url': u'http://t.co/CmA7geZyXF', u'indices': [0, 22], u'expanded_url': u'http://bigdataclub.org', u'display_url': u'bigdataclub.org'}]}, u'description': {u'urls': []}}, u'followers_count': 8994, u'profile_sidebar_border_color': u'C0DEED', u'id_str': u'507415544', u'profile_background_color': u'C0DEED', u'listed_count': 266, u'is_translation_enabled': False, u'utc_offset': -14400, u'statuses_count': 15455, u'description': u'#BigDataClub is for #BigData professionals, join to exchange ideas, network, and collaborate with other #bigdata professionals.\\r\\nManaged by @VishalTx', u'friends_count': 5755, u'location': u'#THEBIGDATAWEB', u'profile_link_color': u'0084B4', u'profile_image_url': u'http://pbs.twimg.com/profile_images/378800000309289268/f55beff161cbd781ff07d247e671741c_normal.png', u'following': False, u'geo_enabled': False, u'profile_background_image_url': u'http://abs.twimg.com/images/themes/theme1/bg.png', u'screen_name': u'BigDataClub', u'lang': u'en', u'profile_background_tile': False, u'favourites_count': 0, u'name': u'BigDataClub', u'notifications': False, u'url': u'http://t.co/CmA7geZyXF', u'created_at': u'Tue Feb 28 14:03:58 +0000 2012', u'contributors_enabled': False, u'time_zone': u'Eastern Time (US & Canada)', u'protected': False, u'default_profile': True, u'is_translator': False}, u'geo': None, u'in_reply_to_user_id_str': None, u'possibly_sensitive': False, u'lang': u'en', u'created_at': u'Sat Jun 07 18:40:21 +0000 2014', u'in_reply_to_status_id_str': None, u'place': None, u'metadata': {u'iso_language_code': u'en', u'result_type': u'recent'}}, u'user': {u'follow_request_sent': False, u'profile_use_background_image': True, u'default_profile_image': False, u'id': 380786715, u'profile_background_image_url_https': u'https://abs.twimg.com/images/themes/theme1/bg.png', u'verified': False, u'profile_text_color': u'333333', u'profile_image_url_https': u'https://pbs.twimg.com/profile_images/378800000486159808/6c9dde8644d6d07e6a0616b5116b94eb_normal.jpeg', u'profile_sidebar_fill_color': u'DDEEF6', u'entities': {u'url': {u'urls': [{u'url': u'http://t.co/V8aejBVdt5', u'indices': [0, 22], u'expanded_url': u'http://www.mindcommerce.com', u'display_url': u'mindcommerce.com'}]}, u'description': {u'urls': []}}, u'followers_count': 884, u'profile_sidebar_border_color': u'C0DEED', u'id_str': u'380786715', u'profile_background_color': u'C0DEED', u'listed_count': 47, u'is_translation_enabled': False, u'utc_offset': 10800, u'statuses_count': 65867, u'description': u'Sales Executive - Mind Commerce Publishing\\r\\n#Telecom #RFID #M2M #NFC #Broadband #LBS #BigData #Mobile #Wireless #Network #SmartGrid #WiFi #WiMAX', u'friends_count': 1171, u'location': u'', u'profile_link_color': u'0084B4', u'profile_image_url': u'http://pbs.twimg.com/profile_images/378800000486159808/6c9dde8644d6d07e6a0616b5116b94eb_normal.jpeg', u'following': False, u'geo_enabled': False, u'profile_background_image_url': u'http://abs.twimg.com/images/themes/theme1/bg.png', u'screen_name': u'jackwmson', u'lang': u'en', u'profile_background_tile': False, u'favourites_count': 13, u'name': u'Jack Williamson', u'notifications': False, u'url': u'http://t.co/V8aejBVdt5', u'created_at': u'Tue Sep 27 07:06:24 +0000 2011', u'contributors_enabled': False, u'time_zone': u'Athens', u'protected': False, u'default_profile': True, u'is_translator': False}, u'geo': None, u'in_reply_to_user_id_str': None, u'possibly_sensitive': False, u'lang': u'en', u'created_at': u'Sat Jun 07 18:47:09 +0000 2014', u'in_reply_to_status_id_str': None, u'place': None, u'metadata': {u'iso_language_code': u'en', u'result_type': u'recent'}}, {u'contributors': None, u'truncated': False, u'text': u'Este es el pa\\xeds que tiene la mayor tasa de crecimiento acelerado en #BigData de toda Latinoam\\xe9rica http://t.co/nGL9MUUVJs', u'in_reply_to_status_id': None, u'id': 475348218386333697, u'favorite_count': 0, u'source': u'<a href=\"http://bufferapp.com\" rel=\"nofollow\">Buffer</a>', u'retweeted': False, u'coordinates': None, u'entities': {u'symbols': [], u'user_mentions': [], u'hashtags': [{u'indices': [68, 76], u'text': u'BigData'}], u'urls': [{u'url': u'http://t.co/nGL9MUUVJs', u'indices': [99, 121], u'expanded_url': u'http://buff.ly/1ogWkqa', u'display_url': u'buff.ly/1ogWkqa'}]}, u'in_reply_to_screen_name': None, u'in_reply_to_user_id': None, u'retweet_count': 0, u'id_str': u'475348218386333697', u'favorited': False, u'user': {u'follow_request_sent': False, u'profile_use_background_image': False, u'default_profile_image': False, u'id': 16194793, u'profile_background_image_url_https': u'https://pbs.twimg.com/profile_background_images/218005974/pulsosocial_twitter_bg.jpg', u'verified': False, u'profile_text_color': u'333333', u'profile_image_url_https': u'https://pbs.twimg.com/profile_images/472169636239134720/WD8ZblD3_normal.png', u'profile_sidebar_fill_color': u'C4C4C4', u'entities': {u'url': {u'urls': [{u'url': u'http://t.co/elngJ3lqpo', u'indices': [0, 22], u'expanded_url': u'http://pulsosocial.com', u'display_url': u'pulsosocial.com'}]}, u'description': {u'urls': []}}, u'followers_count': 23547, u'profile_sidebar_border_color': u'FFFFFF', u'id_str': u'16194793', u'profile_background_color': u'FFFFFF', u'listed_count': 1178, u'is_translation_enabled': False, u'utc_offset': -18000, u'statuses_count': 10630, u'description': u'Media outlet de Emprendimiento, Marketing, Tecnolog\\xeda e Inversi\\xf3n en Latinoam\\xe9rica.', u'friends_count': 2745, u'location': u'Am\\xe9rica Latina', u'profile_link_color': u'E54225', u'profile_image_url': u'http://pbs.twimg.com/profile_images/472169636239134720/WD8ZblD3_normal.png', u'following': False, u'geo_enabled': False, u'profile_banner_url': u'https://pbs.twimg.com/profile_banners/16194793/1401408967', u'profile_background_image_url': u'http://pbs.twimg.com/profile_background_images/218005974/pulsosocial_twitter_bg.jpg', u'screen_name': u'pulsosocial', u'lang': u'en', u'profile_background_tile': False, u'favourites_count': 61, u'name': u'PulsoSocial', u'notifications': False, u'url': u'http://t.co/elngJ3lqpo', u'created_at': u'Tue Sep 09 00:28:00 +0000 2008', u'contributors_enabled': False, u'time_zone': u'Bogota', u'protected': False, u'default_profile': False, u'is_translator': False}, u'geo': None, u'in_reply_to_user_id_str': None, u'possibly_sensitive': False, u'lang': u'es', u'created_at': u'Sat Jun 07 18:47:01 +0000 2014', u'in_reply_to_status_id_str': None, u'place': None, u'metadata': {u'iso_language_code': u'es', u'result_type': u'recent'}}, {u'contributors': None, u'truncated': False, u'text': u'RT @JohndeVoogd: Educating the \\u2018big data\\u2019 generation http://t.co/wqBAewjyl4  #Bigdata', u'in_reply_to_status_id': None, u'id': 475348089495379968, u'favorite_count': 0, u'source': u'<a href=\"https://roundteam.co\" rel=\"nofollow\">RoundTeam</a>', u'retweeted': False, u'coordinates': None, u'entities': {u'symbols': [], u'user_mentions': [{u'id': 317005231, u'indices': [3, 15], u'id_str': u'317005231', u'screen_name': u'JohndeVoogd', u'name': u'John de Voogd'}], u'hashtags': [{u'indices': [77, 85], u'text': u'Bigdata'}], u'urls': [{u'url': u'http://t.co/wqBAewjyl4', u'indices': [53, 75], u'expanded_url': u'http://ow.ly/xvvxK', u'display_url': u'ow.ly/xvvxK'}]}, u'in_reply_to_screen_name': None, u'in_reply_to_user_id': None, u'retweet_count': 3, u'id_str': u'475348089495379968', u'favorited': False, u'retweeted_status': {u'contributors': None, u'truncated': False, u'text': u'Educating the \\u2018big data\\u2019 generation http://t.co/wqBAewjyl4  #Bigdata', u'in_reply_to_status_id': None, u'id': 475340238030925824, u'favorite_count': 2, u'source': u'<a href=\"http://www.hootsuite.com\" rel=\"nofollow\">Hootsuite</a>', u'retweeted': False, u'coordinates': None, u'entities': {u'symbols': [], u'user_mentions': [], u'hashtags': [{u'indices': [60, 68], u'text': u'Bigdata'}], u'urls': [{u'url': u'http://t.co/wqBAewjyl4', u'indices': [36, 58], u'expanded_url': u'http://ow.ly/xvvxK', u'display_url': u'ow.ly/xvvxK'}]}, u'in_reply_to_screen_name': None, u'in_reply_to_user_id': None, u'retweet_count': 3, u'id_str': u'475340238030925824', u'favorited': False, u'user': {u'follow_request_sent': False, u'profile_use_background_image': False, u'default_profile_image': False, u'id': 317005231, u'profile_background_image_url_https': u'https://pbs.twimg.com/profile_background_images/378800000105168629/5575c0bca922a03d7da72efe0e410fab.jpeg', u'verified': False, u'profile_text_color': u'333333', u'profile_image_url_https': u'https://pbs.twimg.com/profile_images/1398638905/johndevoogd_normal.jpg', u'profile_sidebar_fill_color': u'DDEEF6', u'entities': {u'url': {u'urls': [{u'url': u'http://t.co/jtVVqClQuK', u'indices': [0, 22], u'expanded_url': u'http://johndevoogd.wordpress.com/', u'display_url': u'johndevoogd.wordpress.com'}]}, u'description': {u'urls': []}}, u'followers_count': 9048, u'profile_sidebar_border_color': u'FFFFFF', u'id_str': u'317005231', u'profile_background_color': u'767778', u'listed_count': 182, u'is_translation_enabled': False, u'utc_offset': -36000, u'statuses_count': 10469, u'description': u'Passionate for life, people, business and ICT.\\r\\nTweets on #cloud #technology #innovation #bigdata #socialmedia', u'friends_count': 8426, u'location': u'Maarssen', u'profile_link_color': u'131414', u'profile_image_url': u'http://pbs.twimg.com/profile_images/1398638905/johndevoogd_normal.jpg', u'following': False, u'geo_enabled': True, u'profile_banner_url': u'https://pbs.twimg.com/profile_banners/317005231/1388189649', u'profile_background_image_url': u'http://pbs.twimg.com/profile_background_images/378800000105168629/5575c0bca922a03d7da72efe0e410fab.jpeg', u'screen_name': u'JohndeVoogd', u'lang': u'en', u'profile_background_tile': False, u'favourites_count': 0, u'name': u'John de Voogd', u'notifications': False, u'url': u'http://t.co/jtVVqClQuK', u'created_at': u'Tue Jun 14 08:56:21 +0000 2011', u'contributors_enabled': False, u'time_zone': u'Hawaii', u'protected': False, u'default_profile': False, u'is_translator': False}, u'geo': None, u'in_reply_to_user_id_str': None, u'possibly_sensitive': False, u'lang': u'en', u'created_at': u'Sat Jun 07 18:15:18 +0000 2014', u'in_reply_to_status_id_str': None, u'place': None, u'metadata': {u'iso_language_code': u'en', u'result_type': u'recent'}}, u'user': {u'follow_request_sent': False, u'profile_use_background_image': True, u'default_profile_image': False, u'id': 2266327284, u'profile_background_image_url_https': u'https://abs.twimg.com/images/themes/theme17/bg.gif', u'verified': False, u'profile_text_color': u'333333', u'profile_image_url_https': u'https://pbs.twimg.com/profile_images/417013901327212544/nUxVlNaN_normal.png', u'profile_sidebar_fill_color': u'E6F6F9', u'entities': {u'url': {u'urls': [{u'url': u'http://t.co/8ddjbEGdI2', u'indices': [0, 22], u'expanded_url': u'http://attributionmodel.com/', u'display_url': u'attributionmodel.com'}]}, u'description': {u'urls': []}}, u'followers_count': 174, u'profile_sidebar_border_color': u'DBE9ED', u'id_str': u'2266327284', u'profile_background_color': u'DBE9ED', u'listed_count': 6, u'is_translation_enabled': False, u'utc_offset': None, u'statuses_count': 4811, u'description': u'Full Funnel Attribution - We capture & make sense of billions of advertising touch points for some of the world\\u2019s largest advertisers.', u'friends_count': 27, u'location': u'USA', u'profile_link_color': u'CC3366', u'profile_image_url': u'http://pbs.twimg.com/profile_images/417013901327212544/nUxVlNaN_normal.png', u'following': False, u'geo_enabled': False, u'profile_banner_url': u'https://pbs.twimg.com/profile_banners/2266327284/1388259407', u'profile_background_image_url': u'http://abs.twimg.com/images/themes/theme17/bg.gif', u'screen_name': u'attributionnews', u'lang': u'en', u'profile_background_tile': False, u'favourites_count': 0, u'name': u'No Last Click', u'notifications': False, u'url': u'http://t.co/8ddjbEGdI2', u'created_at': u'Sat Dec 28 19:19:09 +0000 2013', u'contributors_enabled': False, u'time_zone': None, u'protected': False, u'default_profile': False, u'is_translator': False}, u'geo': None, u'in_reply_to_user_id_str': None, u'possibly_sensitive': False, u'lang': u'en', u'created_at': u'Sat Jun 07 18:46:30 +0000 2014', u'in_reply_to_status_id_str': None, u'place': None, u'metadata': {u'iso_language_code': u'en', u'result_type': u'recent'}}]}\n"
       ]
      }
     ],
     "prompt_number": 83
    },
    {
     "cell_type": "code",
     "collapsed": false,
     "input": [
      "for status in bigdata['statuses']:\n",
      "    print status.get('text')"
     ],
     "language": "python",
     "metadata": {
      "slideshow": {
       "slide_type": "fragment"
      }
     },
     "outputs": [
      {
       "output_type": "stream",
       "stream": "stdout",
       "text": [
        "#prato con #instagram mi son divertito a raccontare la citt\u00e0 di #igersprato @igers_prato #bigdata #opendata #dataviz http://t.co/H5rGfQLsfx\n",
        "French #computerscience student joins Pivotal, @EMCcorp, and @GSoC on Clustering Algorithms http://t.co/WjroQEPw9e #BigData\n",
        "A technology used to make games run faster can now help solve agencies\u2019 #BigData challenges: http://t.co/dlg4fPf6KF via #GPU #OLCF #HPC\n",
        "RT @BillRuh_GE: #industrialinternet opportunities: from better business to better planet  #Bigdata http://t.co/pZWzhHNCJm\n",
        "Blown away by @aral at #TDC14 read more about him &amp; @indie_phone here http://t.co/dui9Mr5c1H #privacymatters #bigdata\n"
       ]
      }
     ],
     "prompt_number": 6
    },
    {
     "cell_type": "markdown",
     "metadata": {
      "slideshow": {
       "slide_type": "slide"
      }
     },
     "source": [
      "# Twitter lab\n",
      "[http://tinyurl.com/GAtwitterlab](http://nbviewer.ipython.org/github/ptwobrussell/Mining-the-Social-Web-2nd-Edition/blob/master/ipynb/Chapter%201%20-%20Mining%20Twitter.ipynb) up through Exercise 5"
     ]
    },
    {
     "cell_type": "markdown",
     "metadata": {},
     "source": [
      "Useful links:\n",
      "\n",
      "[Mining the Social Web](https://github.com/ptwobrussell/Mining-the-Social-Web-2nd-Edition)"
     ]
    },
    {
     "cell_type": "code",
     "collapsed": false,
     "input": [
      "!pip install twitter"
     ],
     "language": "python",
     "metadata": {},
     "outputs": []
    },
    {
     "cell_type": "code",
     "collapsed": false,
     "input": [
      "import twitter"
     ],
     "language": "python",
     "metadata": {},
     "outputs": []
    },
    {
     "cell_type": "code",
     "collapsed": false,
     "input": [
      "CONSUMER_KEY = 'kU89M3iTVbkNhnA7b1WD9A'\n",
      "CONSUMER_SECRET ='E2erSrX5DeUByOzm2Rn4uI1SsXI2v7UTvWSDe4sDs'\n",
      "OAUTH_TOKEN = '54150531-lrpWlsun1FSq4zU81fFK03UFwLZPAfOYSr3zzY68T'\n",
      "OAUTH_TOKEN_SECRET = '8JzJx1kPv3l6rq4IBFgPZYyUloMzcPKr2r7SrBstCmiz6'"
     ],
     "language": "python",
     "metadata": {},
     "outputs": [],
     "prompt_number": 7
    },
    {
     "cell_type": "code",
     "collapsed": false,
     "input": [
      "auth = twitter.oauth.OAuth(OAUTH_TOKEN, OAUTH_TOKEN_SECRET,\n",
      "                           CONSUMER_KEY, CONSUMER_SECRET)\n",
      "\n",
      "twitter_api = twitter.Twitter(auth=auth)\n",
      "\n",
      "# Nothing to see by displaying twitter_api except that it's now a\n",
      "# defined variable\n",
      "\n",
      "print twitter_api"
     ],
     "language": "python",
     "metadata": {},
     "outputs": [
      {
       "output_type": "stream",
       "stream": "stdout",
       "text": [
        "<twitter.api.Twitter object at 0x105fa6350>\n"
       ]
      }
     ],
     "prompt_number": 9
    },
    {
     "cell_type": "code",
     "collapsed": false,
     "input": [
      "# The Yahoo! Where On Earth ID for the entire world is 1.\n",
      "# See https://dev.twitter.com/docs/api/1.1/get/trends/place and\n",
      "# http://developer.yahoo.com/geo/geoplanet/\n",
      "\n",
      "WORLD_WOE_ID = 1\n",
      "US_WOE_ID = 23424977\n",
      "\n",
      "# Prefix ID with the underscore for query string parameterization.\n",
      "# Without the underscore, the twitter package appends the ID value\n",
      "# to the URL itself as a special case keyword argument.\n",
      "\n",
      "world_trends = twitter_api.trends.place(_id=WORLD_WOE_ID)\n",
      "us_trends = twitter_api.trends.place(_id=US_WOE_ID)\n",
      "\n",
      "print world_trends\n",
      "print\n",
      "print us_trends"
     ],
     "language": "python",
     "metadata": {},
     "outputs": [
      {
       "ename": "TwitterHTTPError",
       "evalue": "Twitter sent status 401 for URL: 1.1/trends/place.json using parameters: (id=1&oauth_consumer_key=kU89M3iTVbkNhnA7b1WD9A&oauth_nonce=1823292528957952352&oauth_signature_method=HMAC-SHA1&oauth_timestamp=1402083697&oauth_token=54150531-lrpWlsun1FSq4zU81fFK03UFwLZPAfOYSr3zzY68T&oauth_version=1.0&oauth_signature=RGf3xs0C0cs%2BUGirFcAidXycSdg%3D)\ndetails: {\"errors\":[{\"message\":\"Could not authenticate you\",\"code\":32}]}",
       "output_type": "pyerr",
       "traceback": [
        "\u001b[0;31m---------------------------------------------------------------------------\u001b[0m\n\u001b[0;31mTwitterHTTPError\u001b[0m                          Traceback (most recent call last)",
        "\u001b[0;32m<ipython-input-10-227f21c6dda0>\u001b[0m in \u001b[0;36m<module>\u001b[0;34m()\u001b[0m\n\u001b[1;32m     10\u001b[0m \u001b[0;31m# to the URL itself as a special case keyword argument.\u001b[0m\u001b[0;34m\u001b[0m\u001b[0;34m\u001b[0m\u001b[0m\n\u001b[1;32m     11\u001b[0m \u001b[0;34m\u001b[0m\u001b[0m\n\u001b[0;32m---> 12\u001b[0;31m \u001b[0mworld_trends\u001b[0m \u001b[0;34m=\u001b[0m \u001b[0mtwitter_api\u001b[0m\u001b[0;34m.\u001b[0m\u001b[0mtrends\u001b[0m\u001b[0;34m.\u001b[0m\u001b[0mplace\u001b[0m\u001b[0;34m(\u001b[0m\u001b[0m_id\u001b[0m\u001b[0;34m=\u001b[0m\u001b[0mWORLD_WOE_ID\u001b[0m\u001b[0;34m)\u001b[0m\u001b[0;34m\u001b[0m\u001b[0m\n\u001b[0m\u001b[1;32m     13\u001b[0m \u001b[0mus_trends\u001b[0m \u001b[0;34m=\u001b[0m \u001b[0mtwitter_api\u001b[0m\u001b[0;34m.\u001b[0m\u001b[0mtrends\u001b[0m\u001b[0;34m.\u001b[0m\u001b[0mplace\u001b[0m\u001b[0;34m(\u001b[0m\u001b[0m_id\u001b[0m\u001b[0;34m=\u001b[0m\u001b[0mUS_WOE_ID\u001b[0m\u001b[0;34m)\u001b[0m\u001b[0;34m\u001b[0m\u001b[0m\n\u001b[1;32m     14\u001b[0m \u001b[0;34m\u001b[0m\u001b[0m\n",
        "\u001b[0;32m/Users/zack/anaconda/lib/python2.7/site-packages/twitter/api.pyc\u001b[0m in \u001b[0;36m__call__\u001b[0;34m(self, **kwargs)\u001b[0m\n\u001b[1;32m    243\u001b[0m \u001b[0;34m\u001b[0m\u001b[0m\n\u001b[1;32m    244\u001b[0m         \u001b[0mreq\u001b[0m \u001b[0;34m=\u001b[0m \u001b[0murllib_request\u001b[0m\u001b[0;34m.\u001b[0m\u001b[0mRequest\u001b[0m\u001b[0;34m(\u001b[0m\u001b[0muriBase\u001b[0m\u001b[0;34m,\u001b[0m \u001b[0mbody\u001b[0m\u001b[0;34m,\u001b[0m \u001b[0mheaders\u001b[0m\u001b[0;34m)\u001b[0m\u001b[0;34m\u001b[0m\u001b[0m\n\u001b[0;32m--> 245\u001b[0;31m         \u001b[0;32mreturn\u001b[0m \u001b[0mself\u001b[0m\u001b[0;34m.\u001b[0m\u001b[0m_handle_response\u001b[0m\u001b[0;34m(\u001b[0m\u001b[0mreq\u001b[0m\u001b[0;34m,\u001b[0m \u001b[0muri\u001b[0m\u001b[0;34m,\u001b[0m \u001b[0marg_data\u001b[0m\u001b[0;34m,\u001b[0m \u001b[0m_timeout\u001b[0m\u001b[0;34m)\u001b[0m\u001b[0;34m\u001b[0m\u001b[0m\n\u001b[0m\u001b[1;32m    246\u001b[0m \u001b[0;34m\u001b[0m\u001b[0m\n\u001b[1;32m    247\u001b[0m     \u001b[0;32mdef\u001b[0m \u001b[0m_handle_response\u001b[0m\u001b[0;34m(\u001b[0m\u001b[0mself\u001b[0m\u001b[0;34m,\u001b[0m \u001b[0mreq\u001b[0m\u001b[0;34m,\u001b[0m \u001b[0muri\u001b[0m\u001b[0;34m,\u001b[0m \u001b[0marg_data\u001b[0m\u001b[0;34m,\u001b[0m \u001b[0m_timeout\u001b[0m\u001b[0;34m=\u001b[0m\u001b[0mNone\u001b[0m\u001b[0;34m)\u001b[0m\u001b[0;34m:\u001b[0m\u001b[0;34m\u001b[0m\u001b[0m\n",
        "\u001b[0;32m/Users/zack/anaconda/lib/python2.7/site-packages/twitter/api.pyc\u001b[0m in \u001b[0;36m_handle_response\u001b[0;34m(self, req, uri, arg_data, _timeout)\u001b[0m\n\u001b[1;32m    274\u001b[0m                 \u001b[0;32mreturn\u001b[0m \u001b[0;34m[\u001b[0m\u001b[0;34m]\u001b[0m\u001b[0;34m\u001b[0m\u001b[0m\n\u001b[1;32m    275\u001b[0m             \u001b[0;32melse\u001b[0m\u001b[0;34m:\u001b[0m\u001b[0;34m\u001b[0m\u001b[0m\n\u001b[0;32m--> 276\u001b[0;31m                 \u001b[0;32mraise\u001b[0m \u001b[0mTwitterHTTPError\u001b[0m\u001b[0;34m(\u001b[0m\u001b[0me\u001b[0m\u001b[0;34m,\u001b[0m \u001b[0muri\u001b[0m\u001b[0;34m,\u001b[0m \u001b[0mself\u001b[0m\u001b[0;34m.\u001b[0m\u001b[0mformat\u001b[0m\u001b[0;34m,\u001b[0m \u001b[0marg_data\u001b[0m\u001b[0;34m)\u001b[0m\u001b[0;34m\u001b[0m\u001b[0m\n\u001b[0m\u001b[1;32m    277\u001b[0m \u001b[0;34m\u001b[0m\u001b[0m\n\u001b[1;32m    278\u001b[0m \u001b[0;34m\u001b[0m\u001b[0m\n",
        "\u001b[0;31mTwitterHTTPError\u001b[0m: Twitter sent status 401 for URL: 1.1/trends/place.json using parameters: (id=1&oauth_consumer_key=kU89M3iTVbkNhnA7b1WD9A&oauth_nonce=1823292528957952352&oauth_signature_method=HMAC-SHA1&oauth_timestamp=1402083697&oauth_token=54150531-lrpWlsun1FSq4zU81fFK03UFwLZPAfOYSr3zzY68T&oauth_version=1.0&oauth_signature=RGf3xs0C0cs%2BUGirFcAidXycSdg%3D)\ndetails: {\"errors\":[{\"message\":\"Could not authenticate you\",\"code\":32}]}"
       ]
      }
     ],
     "prompt_number": 10
    },
    {
     "cell_type": "code",
     "collapsed": false,
     "input": [
      "import json\n",
      "\n",
      "print json.dumps(world_trends, indent=1)\n",
      "print\n",
      "print json.dumps(us_trends, indent=1)"
     ],
     "language": "python",
     "metadata": {},
     "outputs": [
      {
       "ename": "NameError",
       "evalue": "name 'world_trends' is not defined",
       "output_type": "pyerr",
       "traceback": [
        "\u001b[0;31m---------------------------------------------------------------------------\u001b[0m\n\u001b[0;31mNameError\u001b[0m                                 Traceback (most recent call last)",
        "\u001b[0;32m<ipython-input-11-4cfb6d2a6274>\u001b[0m in \u001b[0;36m<module>\u001b[0;34m()\u001b[0m\n\u001b[1;32m      1\u001b[0m \u001b[0;32mimport\u001b[0m \u001b[0mjson\u001b[0m\u001b[0;34m\u001b[0m\u001b[0m\n\u001b[1;32m      2\u001b[0m \u001b[0;34m\u001b[0m\u001b[0m\n\u001b[0;32m----> 3\u001b[0;31m \u001b[0;32mprint\u001b[0m \u001b[0mjson\u001b[0m\u001b[0;34m.\u001b[0m\u001b[0mdumps\u001b[0m\u001b[0;34m(\u001b[0m\u001b[0mworld_trends\u001b[0m\u001b[0;34m,\u001b[0m \u001b[0mindent\u001b[0m\u001b[0;34m=\u001b[0m\u001b[0;36m1\u001b[0m\u001b[0;34m)\u001b[0m\u001b[0;34m\u001b[0m\u001b[0m\n\u001b[0m\u001b[1;32m      4\u001b[0m \u001b[0;32mprint\u001b[0m\u001b[0;34m\u001b[0m\u001b[0m\n\u001b[1;32m      5\u001b[0m \u001b[0;32mprint\u001b[0m \u001b[0mjson\u001b[0m\u001b[0;34m.\u001b[0m\u001b[0mdumps\u001b[0m\u001b[0;34m(\u001b[0m\u001b[0mus_trends\u001b[0m\u001b[0;34m,\u001b[0m \u001b[0mindent\u001b[0m\u001b[0;34m=\u001b[0m\u001b[0;36m1\u001b[0m\u001b[0;34m)\u001b[0m\u001b[0;34m\u001b[0m\u001b[0m\n",
        "\u001b[0;31mNameError\u001b[0m: name 'world_trends' is not defined"
       ]
      }
     ],
     "prompt_number": 11
    },
    {
     "cell_type": "code",
     "collapsed": false,
     "input": [
      "world_trends_set = set([trend['name'] \n",
      "                        for trend in world_trends[0]['trends']])\n",
      "\n",
      "us_trends_set = set([trend['name'] \n",
      "                     for trend in us_trends[0]['trends']]) \n",
      "\n",
      "common_trends = world_trends_set.intersection(us_trends_set)\n",
      "\n",
      "print common_trends"
     ],
     "language": "python",
     "metadata": {},
     "outputs": []
    },
    {
     "cell_type": "code",
     "collapsed": false,
     "input": [
      "# XXX: Set this variable to a trending topic, \n",
      "# or anything else for that matter. The example query below\n",
      "# was a trending topic when this content was being developed\n",
      "# and is used throughout the remainder of this chapter.\n",
      "\n",
      "q = '#DataScience' \n",
      "\n",
      "count = 100\n",
      "\n",
      "# See https://dev.twitter.com/docs/api/1.1/get/search/tweets\n",
      "\n",
      "search_results = twitter_api.search.tweets(q=q, count=count)\n",
      "\n",
      "statuses = search_results['statuses']\n",
      "\n",
      "\n",
      "# Iterate through 5 more batches of results by following the cursor\n",
      "\n",
      "for _ in range(5):\n",
      "    print \"Length of statuses\", len(statuses)\n",
      "    try:\n",
      "        next_results = search_results['search_metadata']['next_results']\n",
      "    except KeyError, e: # No more results when next_results doesn't exist\n",
      "        break\n",
      "        \n",
      "    # Create a dictionary from next_results, which has the following form:\n",
      "    # ?max_id=313519052523986943&q=NCAA&include_entities=1\n",
      "    kwargs = dict([ kv.split('=') for kv in next_results[1:].split(\"&\") ])\n",
      "    \n",
      "    search_results = twitter_api.search.tweets(**kwargs)\n",
      "    statuses += search_results['statuses']\n",
      "\n",
      "# Show one sample search result by slicing the list...\n",
      "print json.dumps(statuses[0], indent=1)"
     ],
     "language": "python",
     "metadata": {},
     "outputs": []
    },
    {
     "cell_type": "code",
     "collapsed": false,
     "input": [
      "\n",
      "\n",
      "status_texts = [ status['text'] \n",
      "                 for status in statuses ]\n",
      "\n",
      "screen_names = [ user_mention['screen_name'] \n",
      "                 for status in statuses\n",
      "                     for user_mention in status['entities']['user_mentions'] ]\n",
      "\n",
      "hashtags = [ hashtag['text'] \n",
      "             for status in statuses\n",
      "                 for hashtag in status['entities']['hashtags'] ]\n",
      "\n",
      "# Compute a collection of all words from all tweets\n",
      "words = [ w \n",
      "          for t in status_texts \n",
      "              for w in t.split() ]\n",
      "\n",
      "# Explore the first 5 items for each...\n",
      "\n",
      "print json.dumps(status_texts[0:5], indent=1)\n",
      "print json.dumps(screen_names[0:5], indent=1) \n",
      "print json.dumps(hashtags[0:5], indent=1)\n",
      "print json.dumps(words[0:5], indent=1)\n",
      "\n"
     ],
     "language": "python",
     "metadata": {},
     "outputs": []
    },
    {
     "cell_type": "code",
     "collapsed": false,
     "input": [
      "from collections import Counter\n",
      "\n",
      "for item in [words, screen_names, hashtags]:\n",
      "    c = Counter(item)\n",
      "    print c.most_common()[:10] # top 10\n",
      "    print\n",
      "\n"
     ],
     "language": "python",
     "metadata": {},
     "outputs": []
    }
   ],
   "metadata": {}
  }
 ]
}
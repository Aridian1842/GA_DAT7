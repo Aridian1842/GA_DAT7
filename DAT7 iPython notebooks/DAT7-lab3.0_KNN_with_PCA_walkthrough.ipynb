{
 "metadata": {
  "name": "",
  "signature": "sha256:6edef39a931e11055447a9a30bd52e537dbeb726e3fd65de0b1622b5cb0b43f8"
 },
 "nbformat": 3,
 "nbformat_minor": 0,
 "worksheets": [
  {
   "cells": [
    {
     "cell_type": "markdown",
     "metadata": {},
     "source": [
      "## KNN with PCA walkthrough\n",
      "In this walkthrough we explore the effect of PCA dimensionality reduction on predictive quality of a KNN classifier."
     ]
    },
    {
     "cell_type": "code",
     "collapsed": false,
     "input": [
      "# usual imports\n",
      "import numpy as np\n",
      "import matplotlib.pyplot as plt\n",
      "import pylab as pl\n",
      "import pandas as pd\n",
      "%matplotlib inline\n",
      "\n",
      "# scikit-learn algorithms\n",
      "from sklearn.decomposition import PCA\n",
      "from sklearn import neighbors\n",
      "from sklearn.cross_validation import train_test_split"
     ],
     "language": "python",
     "metadata": {},
     "outputs": []
    },
    {
     "cell_type": "markdown",
     "metadata": {},
     "source": [
      "## 1. Build a KNN for all the dimensions"
     ]
    },
    {
     "cell_type": "code",
     "collapsed": false,
     "input": [
      "df = pd.read_csv('data/iris_data.csv', names=['SepalLength','SepalWidth','PetalLength','PetalWidth','Name'],header=None)"
     ],
     "language": "python",
     "metadata": {},
     "outputs": []
    },
    {
     "cell_type": "code",
     "collapsed": false,
     "input": [
      "print df.info()\n",
      "df.head()"
     ],
     "language": "python",
     "metadata": {},
     "outputs": []
    },
    {
     "cell_type": "code",
     "collapsed": false,
     "input": [
      "#Remove the NaNs:\n",
      "df = df.dropna()"
     ],
     "language": "python",
     "metadata": {},
     "outputs": []
    },
    {
     "cell_type": "markdown",
     "metadata": {},
     "source": [
      "Now, add a column that contains a numerical index for each of the target names. I could create a dictionary by hand {'Iris-setosa': 0, 'Iris...} , or build it programmatically like this:\n"
     ]
    },
    {
     "cell_type": "code",
     "collapsed": false,
     "input": [
      "labels_dict = {name : i for i, name in list(enumerate(np.unique(df['Name']))) }"
     ],
     "language": "python",
     "metadata": {},
     "outputs": []
    },
    {
     "cell_type": "code",
     "collapsed": false,
     "input": [
      "labels_dict"
     ],
     "language": "python",
     "metadata": {},
     "outputs": []
    },
    {
     "cell_type": "code",
     "collapsed": false,
     "input": [
      "df['Target'] = df['Name'].map(lambda x: labels_dict[x])\n",
      "\n",
      "df.iloc[45:55]"
     ],
     "language": "python",
     "metadata": {},
     "outputs": []
    },
    {
     "cell_type": "markdown",
     "metadata": {},
     "source": [
      "Use the `.values` attribute to extract numpy arrays from the DataFrame"
     ]
    },
    {
     "cell_type": "code",
     "collapsed": false,
     "input": [
      "X = df[['SepalLength','SepalWidth','PetalLength','PetalWidth']].values\n",
      "print X"
     ],
     "language": "python",
     "metadata": {},
     "outputs": []
    },
    {
     "cell_type": "code",
     "collapsed": false,
     "input": [
      "y = df['Target'].values\n",
      "print y"
     ],
     "language": "python",
     "metadata": {},
     "outputs": []
    },
    {
     "cell_type": "markdown",
     "metadata": {},
     "source": [
      "Let's train the classifier"
     ]
    },
    {
     "cell_type": "code",
     "collapsed": false,
     "input": [
      "X_train, X_test, y_train, y_test = train_test_split(X, y, test_size = .3, random_state=20)"
     ],
     "language": "python",
     "metadata": {},
     "outputs": []
    },
    {
     "cell_type": "code",
     "collapsed": false,
     "input": [
      "clf = neighbors.KNeighborsClassifier(n_neighbors = 7)\n",
      "clf.fit(X_train, y_train)"
     ],
     "language": "python",
     "metadata": {},
     "outputs": []
    },
    {
     "cell_type": "code",
     "collapsed": false,
     "input": [
      "clf.score(X_test, y_test)"
     ],
     "language": "python",
     "metadata": {},
     "outputs": []
    },
    {
     "cell_type": "markdown",
     "metadata": {},
     "source": [
      "## 2. Find the Principal Components:"
     ]
    },
    {
     "cell_type": "code",
     "collapsed": false,
     "input": [
      "# First lets do a PCA on all 4 components\n",
      "n_components = 4\n",
      "\n",
      "pca = PCA(n_components=n_components)\n",
      "X_r = pca.fit(X).transform(X)"
     ],
     "language": "python",
     "metadata": {},
     "outputs": []
    },
    {
     "cell_type": "code",
     "collapsed": false,
     "input": [
      "print X_r"
     ],
     "language": "python",
     "metadata": {},
     "outputs": []
    },
    {
     "cell_type": "code",
     "collapsed": false,
     "input": [
      "# Percentage of variance explained:\n",
      "print \"First component: \" + str(pca.explained_variance_ratio_[0])\n",
      "print \"Second component: \" + str(pca.explained_variance_ratio_[1])\n",
      "print \"Third component: \" + str(pca.explained_variance_ratio_[2])\n",
      "print \"Fourth component: \" + str(pca.explained_variance_ratio_[3])"
     ],
     "language": "python",
     "metadata": {},
     "outputs": []
    },
    {
     "cell_type": "markdown",
     "metadata": {},
     "source": [
      "## 3. KNN using the Principal Components:"
     ]
    },
    {
     "cell_type": "code",
     "collapsed": false,
     "input": [
      "\n",
      "def PCA_KNN(data_original, num_PCs, test_size, k):\n",
      "    n_PCs = num_PCs\n",
      "    pca = PCA(n_components=n_components)\n",
      "    X_r = pca.fit(X).transform(X)\n",
      "    X_train, X_test, y_train, y_test = train_test_split(X_r[:,0:n_PCs], y, test_size = .3, random_state=20)\n",
      "\n",
      "    clf = neighbors.KNeighborsClassifier(n_neighbors= k)\n",
      "    clf.fit(X_train, y_train)\n",
      "\n",
      "    out = clf.score(X_test, y_test)\n",
      "    \n",
      "    return(out)"
     ],
     "language": "python",
     "metadata": {},
     "outputs": []
    },
    {
     "cell_type": "code",
     "collapsed": false,
     "input": [
      "test_size = 0.3\n",
      "k = 7\n",
      "for i in [1,2,3,4]:\n",
      "   Test_accuracy_i = PCA_KNN(data_original = X, num_PCs = i, test_size = test_size, k = k)\n",
      "   print \"For \" + str(i) +\" principal components, k=\"+str(k)+\", and test size of \" + str(test_size)+ \":\\n    Test accuracy = \"+str(Test_accuracy_i)\n",
      "    \n"
     ],
     "language": "python",
     "metadata": {},
     "outputs": []
    },
    {
     "cell_type": "markdown",
     "metadata": {},
     "source": [
      "##### Note how for 3 and 4 principal components, the test accuracy converges to the no-PCA case."
     ]
    }
   ],
   "metadata": {}
  }
 ]
}